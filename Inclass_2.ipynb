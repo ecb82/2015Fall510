{
 "cells": [
  {
   "cell_type": "markdown",
   "metadata": {},
   "source": [
    "# if statement"
   ]
  },
  {
   "cell_type": "code",
   "execution_count": 1,
   "metadata": {
    "collapsed": false
   },
   "outputs": [
    {
     "name": "stdout",
     "output_type": "stream",
     "text": [
      "y still equals 1, justchecking\n",
      "did this work?\n"
     ]
    }
   ],
   "source": [
    "y = 1\n",
    "\n",
    "if y== 1:\n",
    "    print \"y still equals 1, justchecking\"\n",
    "    \n",
    "\n",
    "if y < 1:\n",
    "    print \"what the damn hell\"\n",
    "\n",
    "if y <= 1:\n",
    "    print \"did this work?\""
   ]
  },
  {
   "cell_type": "markdown",
   "metadata": {},
   "source": [
    "# if else"
   ]
  },
  {
   "cell_type": "code",
   "execution_count": 3,
   "metadata": {
    "collapsed": false
   },
   "outputs": [
    {
     "name": "stdout",
     "output_type": "stream",
     "text": [
      "This should happen.\n",
      "This is an odd number\n",
      "It isn't greater than five, either\n"
     ]
    }
   ],
   "source": [
    "a = 1\n",
    "if a > 5:\n",
    "    print \"This shouldn't happen.\"\n",
    "else:\n",
    "    print \"This should happen.\"\n",
    "    \n",
    "if a > 5:\n",
    "    print \"Big number!\"\n",
    "elif a % 2 != 0:\n",
    "    print \"This is an odd number\"\n",
    "    print \"It isn't greater than five, either\"\n",
    "else:\n",
    "    print \"this number isn't greater than 5\"\n",
    "    print \"nor is it odd\"\n",
    "    print \"feeling special?\"\n",
    "\n",
    "#try running the switch statement "
   ]
  },
  {
   "cell_type": "markdown",
   "metadata": {},
   "source": [
    "# for loops"
   ]
  },
  {
   "cell_type": "code",
   "execution_count": 8,
   "metadata": {
    "collapsed": false
   },
   "outputs": [
    {
     "name": "stdout",
     "output_type": "stream",
     "text": [
      "0\n",
      "2\n",
      "2\n",
      "6\n",
      "6\n",
      "12\n",
      "12\n",
      "20\n",
      "('The sum is:', 20)\n",
      "This is an odd number\n",
      "It isn't greater than five, either\n",
      "Big number!\n",
      "This is an odd number\n",
      "It isn't greater than five, either\n",
      "this number isn't greater than 5\n",
      "nor is it odd\n",
      "feeling special?\n"
     ]
    }
   ],
   "source": [
    "\n",
    "list = [2, 4, 6, 8]\n",
    "sum = 0\n",
    "for num in list:\n",
    "    print sum\n",
    "    sum = sum + num\n",
    "    print sum\n",
    "print(\"The sum is:\", sum)\n",
    "\n",
    "#What is the result if a=10, a=3, a=4?\n",
    "a = [1,10,3,4]\n",
    "\n",
    "for num in a:\n",
    "\n",
    "    if num > 5:\n",
    "        print \"Big number!\"\n",
    "    elif num % 2 != 0:\n",
    "        print \"This is an odd number\"\n",
    "        print \"It isn't greater than five, either\"\n",
    "    else:\n",
    "        print \"this number isn't greater than 5\"\n",
    "        print \"nor is it odd\"\n",
    "        print \"feeling special?\"\n",
    "\n"
   ]
  },
  {
   "cell_type": "markdown",
   "metadata": {},
   "source": [
    "# while loops"
   ]
  },
  {
   "cell_type": "code",
   "execution_count": 10,
   "metadata": {
    "collapsed": false
   },
   "outputs": [
    {
     "name": "stdout",
     "output_type": "stream",
     "text": [
      "1\n",
      "2\n",
      "3\n",
      "4\n",
      "5\n",
      "6\n",
      "7\n",
      "8\n",
      "9\n",
      "10\n",
      "10\n",
      "wow, we've counted x down, and now it equals 9\n",
      "9\n",
      "wow, we've counted x down, and now it equals 8\n",
      "8\n",
      "wow, we've counted x down, and now it equals 7\n",
      "7\n",
      "wow, we've counted x down, and now it equals 6\n",
      "6\n",
      "wow, we've counted x down, and now it equals 5\n",
      "5\n",
      "wow, we've counted x down, and now it equals 4\n",
      "4\n",
      "wow, we've counted x down, and now it equals 3\n",
      "3\n",
      "wow, we've counted x down, and now it equals 2\n",
      "2\n",
      "wow, we've counted x down, and now it equals 1\n",
      "1\n",
      "wow, we've counted x down, and now it equals 0\n",
      "And now the loop has ended.\n"
     ]
    }
   ],
   "source": [
    "a = 0\n",
    "while a < 10:\n",
    "    a = a + 1\n",
    "    print a\n",
    "    \n",
    "\n",
    "\n",
    "x = 10\n",
    "while x != 0:\n",
    "    print x\n",
    "    x = x - 1\n",
    "    print \"wow, we've counted x down, and now it equals\", x\n",
    "print \"And now the loop has ended.\"\n"
   ]
  },
  {
   "cell_type": "markdown",
   "metadata": {},
   "source": [
    "# System stuff"
   ]
  },
  {
   "cell_type": "code",
   "execution_count": 15,
   "metadata": {
    "collapsed": false
   },
   "outputs": [
    {
     "name": "stdout",
     "output_type": "stream",
     "text": [
      "['__displayhook__', '__doc__', '__excepthook__', '__name__', '__package__', '__stderr__', '__stdin__', '__stdout__', '_clear_type_cache', '_current_frames', '_getframe', '_mercurial', 'api_version', 'argv', 'builtin_module_names', 'byteorder', 'call_tracing', 'callstats', 'copyright', 'displayhook', 'dllhandle', 'dont_write_bytecode', 'exc_clear', 'exc_info', 'exc_type', 'excepthook', 'exec_prefix', 'executable', 'exit', 'exitfunc', 'flags', 'float_info', 'float_repr_style', 'getcheckinterval', 'getdefaultencoding', 'getfilesystemencoding', 'getprofile', 'getrecursionlimit', 'getrefcount', 'getsizeof', 'gettrace', 'getwindowsversion', 'hexversion', 'long_info', 'maxint', 'maxsize', 'maxunicode', 'meta_path', 'modules', 'path', 'path_hooks', 'path_importer_cache', 'platform', 'prefix', 'ps1', 'ps2', 'ps3', 'py3kwarning', 'setcheckinterval', 'setprofile', 'setrecursionlimit', 'settrace', 'stderr', 'stdin', 'stdout', 'subversion', 'version', 'version_info', 'warnoptions', 'winver']\n",
      "BREAK\n",
      "['F_OK', 'O_APPEND', 'O_BINARY', 'O_CREAT', 'O_EXCL', 'O_NOINHERIT', 'O_RANDOM', 'O_RDONLY', 'O_RDWR', 'O_SEQUENTIAL', 'O_SHORT_LIVED', 'O_TEMPORARY', 'O_TEXT', 'O_TRUNC', 'O_WRONLY', 'P_DETACH', 'P_NOWAIT', 'P_NOWAITO', 'P_OVERLAY', 'P_WAIT', 'R_OK', 'SEEK_CUR', 'SEEK_END', 'SEEK_SET', 'TMP_MAX', 'UserDict', 'W_OK', 'X_OK', '_Environ', '__all__', '__builtins__', '__doc__', '__file__', '__name__', '__package__', '_copy_reg', '_execvpe', '_exists', '_exit', '_get_exports_list', '_make_stat_result', '_make_statvfs_result', '_pickle_stat_result', '_pickle_statvfs_result', 'abort', 'access', 'altsep', 'chdir', 'chmod', 'close', 'closerange', 'curdir', 'defpath', 'devnull', 'dup', 'dup2', 'environ', 'errno', 'error', 'execl', 'execle', 'execlp', 'execlpe', 'execv', 'execve', 'execvp', 'execvpe', 'extsep', 'fdopen', 'fstat', 'fsync', 'getcwd', 'getcwdu', 'getenv', 'getpid', 'isatty', 'kill', 'linesep', 'listdir', 'lseek', 'lstat', 'makedirs', 'mkdir', 'name', 'open', 'pardir', 'path', 'pathsep', 'pipe', 'popen', 'popen2', 'popen3', 'popen4', 'putenv', 'read', 'remove', 'removedirs', 'rename', 'renames', 'rmdir', 'sep', 'spawnl', 'spawnle', 'spawnv', 'spawnve', 'startfile', 'stat', 'stat_float_times', 'stat_result', 'statvfs_result', 'strerror', 'sys', 'system', 'tempnam', 'times', 'tmpfile', 'tmpnam', 'umask', 'unlink', 'unsetenv', 'urandom', 'utime', 'waitpid', 'walk', 'write']\n",
      "C:\\Users\\Eric Budge\\Documents\\GitHub\\2015Fall510\n",
      "BREAK\n",
      "['DEBUG', 'DOTALL', 'I', 'IGNORECASE', 'L', 'LOCALE', 'M', 'MULTILINE', 'S', 'Scanner', 'T', 'TEMPLATE', 'U', 'UNICODE', 'VERBOSE', 'X', '_MAXCACHE', '__all__', '__builtins__', '__doc__', '__file__', '__name__', '__package__', '__version__', '_alphanum', '_cache', '_cache_repl', '_compile', '_compile_repl', '_expand', '_locale', '_pattern_type', '_pickle', '_subx', 'compile', 'copy_reg', 'error', 'escape', 'findall', 'finditer', 'match', 'purge', 'search', 'split', 'sre_compile', 'sre_parse', 'sub', 'subn', 'sys', 'template']\n"
     ]
    }
   ],
   "source": [
    "import sys\n",
    "print dir(sys)\n",
    "print \"BREAK\"\n",
    "\n",
    "import os\n",
    "print dir(os)\n",
    "print os.getcwd()\n",
    "print \"BREAK\"\n",
    "\n",
    "import re\n",
    "print dir(re)"
   ]
  },
  {
   "cell_type": "markdown",
   "metadata": {},
   "source": [
    "# modules"
   ]
  },
  {
   "cell_type": "code",
   "execution_count": 19,
   "metadata": {
    "collapsed": false
   },
   "outputs": [
    {
     "name": "stdout",
     "output_type": "stream",
     "text": [
      "something else\n",
      "['MyAge', '__builtins__', '__doc__', '__file__', '__name__', '__package__', 'title']\n",
      "Math 510 Fall 2015\n",
      "54\n",
      "something else\n"
     ]
    }
   ],
   "source": [
    "title = \"something else\"\n",
    "print title\n",
    "\n",
    "import Class_1_Module\n",
    "print dir(Class_1_Module)\n",
    "print Class_1_Module.title\n",
    "print Class_1_Module.MyAge\n",
    "print title"
   ]
  },
  {
   "cell_type": "code",
   "execution_count": 18,
   "metadata": {
    "collapsed": false
   },
   "outputs": [
    {
     "name": "stdout",
     "output_type": "stream",
     "text": [
      "Math 510 Fall 2015\n"
     ]
    }
   ],
   "source": [
    "from Class_1_Module import title\n",
    "print title"
   ]
  },
  {
   "cell_type": "markdown",
   "metadata": {},
   "source": [
    "# functions"
   ]
  },
  {
   "cell_type": "markdown",
   "metadata": {},
   "source": [
    "# documentation\n"
   ]
  },
  {
   "cell_type": "code",
   "execution_count": 27,
   "metadata": {
    "collapsed": false
   },
   "outputs": [
    {
     "name": "stdout",
     "output_type": "stream",
     "text": [
      "166\n",
      "\n",
      "\n",
      "\n",
      "    this is a function document string or doc string.\n",
      "    this function totals stuff.\n",
      "    \n",
      "    parameters:\n",
      "    initial - initial value defaults to 5\n",
      "    *numbers - any number of numbers seperates by commas\n",
      "    **keywords - any number of name=number pairs eg fruit=77\n",
      "    \n",
      "    gp-2015\n",
      "    \n"
     ]
    }
   ],
   "source": [
    "def total(initial = 5, *numbers, **keywords):\n",
    "    \"\"\"\n",
    "    this is a function document string or doc string.\n",
    "    this function totals stuff.\n",
    "    \n",
    "    parameters:\n",
    "    initial - initial value defaults to 5\n",
    "    *numbers - any number of numbers seperates by commas\n",
    "    **keywords - any number of name=number pairs eg fruit=77\n",
    "    \n",
    "    gp-2015\n",
    "    \"\"\"\n",
    "    \n",
    "    count = initial\n",
    "    for number in numbers:\n",
    "        count += number\n",
    "    for key in keywords:\n",
    "        count += keywords[key]\n",
    "    return count\n",
    "\n",
    "total_count = total(10,1,2,3,vegetables=50,fruits=100)\n",
    "\n",
    "print total_count\n",
    "print '\\n'\n",
    "print total.__doc__\n",
    "    "
   ]
  },
  {
   "cell_type": "code",
   "execution_count": null,
   "metadata": {
    "collapsed": true
   },
   "outputs": [],
   "source": []
  }
 ],
 "metadata": {
  "kernelspec": {
   "display_name": "Python 2",
   "language": "python",
   "name": "python2"
  },
  "language_info": {
   "codemirror_mode": {
    "name": "ipython",
    "version": 2
   },
   "file_extension": ".py",
   "mimetype": "text/x-python",
   "name": "python",
   "nbconvert_exporter": "python",
   "pygments_lexer": "ipython2",
   "version": "2.7.10"
  }
 },
 "nbformat": 4,
 "nbformat_minor": 0
}
