{
 "cells": [
  {
   "cell_type": "markdown",
   "metadata": {},
   "source": [
    "# Homework 2"
   ]
  },
  {
   "cell_type": "markdown",
   "metadata": {},
   "source": [
    "#  1)"
   ]
  },
  {
   "cell_type": "code",
   "execution_count": null,
   "metadata": {
    "collapsed": false
   },
   "outputs": [],
   "source": [
    "#this function takes a numerical input and prints the list of\n",
    "#fibonacci numbers that are less than the input\n",
    "\n",
    "\n",
    "def fib(limit):\n",
    "    n = 1     #since the first Fib number is always 1, we simply assign it\n",
“AW: is the starting number 1? or 0?”
    "    print 'the fibonacci less than', limit, 'are:' #want this to print beofre our list\n", “AW: ()needed for print”
    "    #now we can use a loop to print and generate the Fib numbers\n",
    "    while n < limit:\n",
    "        print n\n", “AW: ()needed for print”
    "        n += n\n",
    "\n",
    "#to make sure the funtion is working properly we test it with a non Fib number\n",
    "fib(10)\n",
    "\n",
    "    "
   ]
“AW: write function header comments (explaining what the function does, what the input parameters are, and what is returned)”
  },
  {
   "cell_type": "markdown",
   "metadata": {},
   "source": [
    "# 2)"
   ]
  },
  {
   "cell_type": "code",
   "execution_count": null,
   "metadata": {
    "collapsed": false
   },
   "outputs": [],
   "source": [
    "#this function will take two numerical inputs and return the larger\n",
    "def mymax(first, second):\n",
    "    if first > second:  #test to see if the first input is larger\n",
    "        print first\n", “AW: ()needed for print”
    "    elif second > first:  #test to see if second input is larger\n",
    "        print second\n", “AW: ()needed for print”
    "    elif first == second:  #test if the two inputs are equal\n",
    "        print first, 'and', second, 'are equal'\n", “AW: ()needed for print”
    "    else:  #if the inputs dont satisfy the three conditions above then something is wrong with the funtion or the inputs\n",
    "        print error  \n", “AW: ()needed for print”
    "\n",
    "        \n",
    "#test with the first input smaller:\n",
    "mymax(10,66)\n",
    "\n",
    "#test with second input smaller:\n",
    "mymax(18,5)\n",
    "\n",
    "#test with equal inputs:\n",
    "mymax(42,42)\n",
    "\n",
    "#everything seems to be running well"
   ]
“AW: write function header comments (explaining what the function does, what the input parameters are, and what is returned)”
  },
  {
   "cell_type": "markdown",
   "metadata": {},
   "source": [
    "# 3)"
   ]
  },
  {
   "cell_type": "code",
   "execution_count": null,
   "metadata": {
    "collapsed": false
   },
   "outputs": [],
   "source": [
    "#this function will take three numerical inputs and return the largest\n",
    "\n",
    "def max_of_three(f,s,t):\n",
    "    #rather than writing complicated strings of operators, we break the function into sections\n",
    "    if f > s:  #our first possible section\n",
    "        #these are the possible outcomes for this section\n",
    "        if f > t:\n",
    "            print f\n", “AW: ()needed for print”
    "        elif f < t:\n",
    "            print t\n", “AW: ()needed for print”
    "        elif f == t:\n",
    "            print 'both', f, 'and', t\n", “AW: ()needed for print”
    "    elif f < s:  #the second possible section\n",
    "        #these are the outcomes possible\n",
    "        if s > t:\n",
    "            print s\n", “AW: ()needed for print”
    "        elif s < t:\n",
    "            print t\n", “AW: ()needed for print”
    "        elif s == t:\n",
    "            print 'both', s, 'and', t\n", “AW: ()needed for print”
    "    elif f == s:  #the final section\n",
    "        #the final set of outcomes\n",
    "        if f < t:\n",
    "            print t\n", “AW: ()needed for print”
    "        elif f > t:\n",
    "            print 'both', f, 'and', s\n", “AW: ()needed for print”
    "        elif f == t:\n",
    "            print 'All values are equal'\n", “AW: ()needed for print”
    "\n",
    "#here we want to test the funtion with values that should end up in each of the sections\n",
    "max_of_three(1,2,3)\n",
    "\n",
    "max_of_three(10,2,3)\n",
    "\n",
    "max_of_three(1,20,3)\n",
    "\n",
    "max_of_three(3,3,4)\n",
    "\n",
    "#everything seems to working in the function!!!"
   ]
“AW: write function header comments (explaining what the function does, what the input parameters are, and what is returned)”
  },
  {
   "cell_type": "markdown",
   "metadata": {},
   "source": [
    "# 4)"
   ]
  },
  {
   "cell_type": "code",
   "execution_count": null,
   "metadata": {
    "collapsed": false
   },
   "outputs": [],
   "source": [
    "#this function will count the length of a string or list and print the length\n",
    "\n",
    "def mylen(entry):\n",
    "    length = 0  #this gives us a universal starting value to count up from\n",
    "    #now we make a loop that will count up once for every character or element\n",
    "    for n in entry:  \n", “AW: What is the purpose of this statement?”
    "        length += 1\n", “AW: What is the purpose of this statement?”

    "    \n",
    "    print length\n", “AW: ()needed for print”
    "\n",
    "#string test:   \n",
    "mylen('four')\n",
    "#list test\n",
    "mylen([0,1,2,3,4,5])\n",
    "#making sure it works for longer inputs\n",
    "mylen('this is an example of a longer string')\n",
    "#make sure the empty set is valid\n",
    "mylen([])\n",
    "        \n",
    "#this function seems to work!        "
   ]
“AW: write function header comments (explaining what the function does, what the input parameters are, and what is returned)”
  },
  {
   "cell_type": "markdown",
   "metadata": {},
   "source": [
    "# 5)"
   ]
  },
  {
   "cell_type": "code",
   "execution_count": 2,
   "metadata": {
    "collapsed": false
   },
   "outputs": [
    {
     "name": "stdout",
     "output_type": "stream",
     "text": [
      "this is not a vowel\n",
      "a is a vowel\n",
      "only some times!!!\n"
     ]
    }
   ],
   "source": [
    "#we want to create a function that will determine if a single letter is a vowle or not\n",
    "\n",
    "def vow(letter):\n",
    "    vowel_list = ['a','e','i','o','u']  #this gives us an easy way to go through all the vowels\n",
“AW: also consider the upper case”
    "    #now we can test our input\n",
    "    if letter in vowel_list:\n",
    "        print letter, 'is a vowel'\n", “AW: ()needed for print”
    "    elif letter == 'y':\n",
    "        print 'only some times!!!'\n", “AW: ()needed for print”
    "    else:\n",
    "        print 'this is not a vowel'  #if it is not in our list, or 'y', then it cannot be a vowel\n", “AW: ()needed for print”
    "#concinent test\n",
    "vow('x')\n",
    "#vowel test\n",
    "vow('a')\n",
    "#testing 'y'\n",
    "vow('y')\n",
    "\n",
    "#our function works!"
   ]
“AW: write function header comments (explaining what the function does, what the input parameters are, and what is returned). Should the upper case vowels be considered? Please provide in-line comments for all statements”
  },
  {
   "cell_type": "markdown",
   "metadata": {},
   "source": [
    "# 6)"
   ]
  },
  {
   "cell_type": "code",
   "execution_count": 16,
   "metadata": {
    "collapsed": false
   },
   "outputs": [
    {
     "name": "stdout",
     "output_type": "stream",
     "text": [
      "tothohisos isos fofunon\n",
      "aeiou\n"
     ]
    }
   ],
   "source": [
    "#this function will encrypt any text and print the cyphertext\n",
    "\n",
    "\n",
    "\n",
    "def translate(secret):\n",
    "    cons = 'bcdfghjklmnpqrstvwxz'  #list of our consinents\n",
    "    vow = 'aeiouy'  #list of vowels\n",
    "    #expanding our lists makes it easier to turn the input into the coded message\n",
    "    cons_list = list(cons)\n",
    "    exp = list(secret)\n",
    "    i = 0\n",
    "    #this loop tests each letter of the input\n",
    "    while i < len(exp):\n",
    "        #if the letter in a consinent then it must be replaced\n",
    "        if exp[i] in cons_list:\n",
    "            exp[i] = exp[i] + 'o' + exp[i]\n",
    "            i += 1\n",
    "        #if not it will not be changed\n",
    "        elif exp[i] in vow:\n",
    "            i += 1\n",
    "        elif exp[i] == '':\n",
    "            i += 1\n",
    "        else:\n",
    "            i += 1\n",
    "    #this compresses the new coded list into a text output\n",
    "    final = ''.join(exp)\n",
    "    print final\n", “AW: ()needed for print”
    "    \n",
    "    \n",
    "translate('this is fun')\n",
    "\n",
    "translate('aeiou')\n"
   ]
“AW: write function header comments (explaining what the function does, what the input parameters are, and what is returned).Please provide in-line comments for all statements”
  },
  {
   "cell_type": "markdown",
   "metadata": {
    "collapsed": true
   },
   "source": [
    "# 7)"
   ]
  },
  {
   "cell_type": "code",
   "execution_count": 19,
   "metadata": {
    "collapsed": false
   },
   "outputs": [
    {
     "name": "stdout",
     "output_type": "stream",
     "text": [
      "10\n",
      "24\n",
      "0\n"
     ]
    }
   ],
   "source": [
    "#this function takes a list of numbers and returns their sum\n",
    "\n",
    "def mysum(values):\n",
“AW: write function header comments (explaining what the function does, what the input parameters are, and what is returned).Please provide in-line comments for all statements”
    "    #our sum will always start at 0 \n",
    "    total = 0\n",
    "    #this loop adds each value in the list to the total\n",
    "    for i in values:\n",
    "        total += i\n",
    "    print total\n",
    "\n",
    "mysum([1,2,3,4])\n",
    "\n",
    "#this function takes a list of numbers and returns the product of the values\n",
    "\n",
    "def multiply(values):\n",
“AW: write function header comments (explaining what the function does, what the input parameters are, and what is returned).Please provide in-line comments for all statements”
    "    #unlike the sum out product must start at 1\n",
    "    prod = 1\n",
    "    #this loop multiplies each value by the total product\n",
    "    for i in values:\n",
    "        prod *= i\n",
    "    print prod\n",
    "\n",
    "multiply([1,2,3,4])\n",
    "\n",
    "multiply([1,2,3,4,0])"
   ]
  },
  {
   "cell_type": "markdown",
   "metadata": {},
   "source": [
    "# 8)"
   ]
  },
  {
   "cell_type": "code",
   "execution_count": 4,
   "metadata": {
    "collapsed": false
   },
   "outputs": [
    {
     "name": "stdout",
     "output_type": "stream",
     "text": [
      "gnitset ma I\n"
     ]
    }
   ],
   "source": [
    "#this function will reverse any text input\n",
    "\n",
    "def reverse(quote):\n",
    "    back = []  #this will serve as our list that we reverse the input into\n",
    "    i = 0\n",
    "    #this loop appends the characters of the input in reverse order to the back list\n",
    "    while i < len(quote):\n",
    "        last = quote[len(quote)- 1 - i]\n",
    "        back.append(last)\n",
    "        i += 1\n",
    "    #now we compress and print the list to get the desired text\n",
    "    final = ''.join(back)\n",
    "    print final\n", “AW: () needed for print”
    "    \n",
    "reverse('I am testing')"
   ]
“AW: write function header comments (explaining what the function does, what the input parameters are, and what is returned).Please provide in-line comments for all statements”
  },
  {
   "cell_type": "markdown",
   "metadata": {
    "collapsed": true
   },
   "source": [
    "# 9)"
   ]
  },
  {
   "cell_type": "code",
   "execution_count": 14,
   "metadata": {
    "collapsed": false
   },
   "outputs": [
    {
     "name": "stdout",
     "output_type": "stream",
     "text": [
      "TRUE\n",
      "TRUE\n",
      "FALSE\n"
     ]
    }
   ],
   "source": [
    "#this function will tell us if a given input is a palendrome\n",
    "\n",
    "def is_palendrome(word):\n",
    "    letters = list(word) #making the word into a list makes it easier to check if the letters ar identicle\n",
    "    sim = 0 #will be used to count the simetrical letters\n",
    "    n = len(letters)\n",
    "    #we need to test two scenarios, when the input is an even length and when it is an odd length\n",
    "    if n%2 == 0:\n",
    "        i = 0\n",
    "        #this loop checks the letters on each side that need to be the same\n",
    "        while i < n/2:\n",
    "            if letters[i] == letters[n-i-1]:\n",
    "                sim += 2\n",
    "            else:\n",
    "                sim += 0\n",
    "            i += 1\n",
    "    #for a word of odd length\n",
    "    elif n%2 == 1:\n",
    "        i = 0\n",
    "        #loop checks the letters\n",
    "        while i < n/2:\n",
    "            if letters[i] == letters [n-i-1]:\n",
    "                sim += 2\n",
    "            else:\n",
    "                sim += 0\n",
    "            i += 1\n",
    "        sim += 1\n",
    "    \n",
    "    #if the input was a palendrome then the counted simetrical letters will equal the length of the input\n",
    "    if sim == n:\n",
    "        print 'TRUE'\n", “AW: () needed for print”
    "    else:\n",
    "        print 'FALSE'\n", “AW: () needed for print”
    "#odd length test    \n",
    "is_palendrome('radar')\n",
    "#even length test\n",
    "is_palendrome('raar')\n",
    "#testing a non-palendrome\n",
    "is_palendrome(\"test\")\n",
    "            "
   ]
“AW: write function header comments (explaining what the function does, what the input parameters are, and what is returned).Please provide in-line comments for all statements”
  },
  {
   "cell_type": "markdown",
   "metadata": {},
   "source": [
    "# 10)"
   ]
  },
  {
   "cell_type": "code",
   "execution_count": 15,
   "metadata": {
    "collapsed": false
   },
   "outputs": [
    {
     "name": "stdout",
     "output_type": "stream",
     "text": [
      "1 is in the set\n",
      "a is in the word\n",
      "z is not in apple\n",
      "0 is not in the set\n"
     ]
    }
   ],
   "source": [
    "#this function is returns a True False value if value is in a given set\n",
    "\n",
    "def is_member(x, group):\n",
    "    #a simple if-else statement is all we need to excicute this function\n",
    "    if x in group:\n",
    "        return True\n",
    "    else:\n",
    "        return False\n",
    "\n",
    "#testing the various return values\n",
    "a = is_member(1,[0,1,2,3])\n",
    "\n",
    "b = is_member('a','class')\n",
    "\n",
    "c = is_member('z','apple')\n",
    "\n",
    "d = is_member(0,[4,5,6,7])\n",
    "\n",
    "#these statements will tell us if there is a mistake\n",
    "if a:\n",
    "    print \"1 is in the set\"\n", “AW: () needed for print”
    "else:\n",
    "    print 'a error'\n",
    "    \n",
    "if b:\n",
    "    print \"a is in the word\"\n", “AW: () needed for print”
    "else:\n",
    "    print 'b error'\n", “AW: () needed for print”
    "    \n",
    "if c:\n",
    "    print \"c error\"\n", “AW: () needed for print”
    "else:\n",
    "    print 'z is not in apple'\n", “AW: () needed for print”
    "\n",
    "if d:\n",
    "    print \"d error\"\n", “AW: () needed for print”
    "else:\n",
    "    print '0 is not in the set'" “AW: () needed for print”
   ]
“AW: write function header comments (explaining what the function does, what the input parameters are, and what is returned).Please provide in-line comments for all statements”
  },
  {
   "cell_type": "markdown",
   "metadata": {},
   "source": [
    "# 11)"
   ]
  },
  {
   "cell_type": "code",
   "execution_count": 16,
   "metadata": {
    "collapsed": false
   },
   "outputs": [
    {
     "name": "stdout",
     "output_type": "stream",
     "text": [
      "works\n",
      "works\n",
      "works\n"
     ]
    }
   ],
   "source": [
    "#this function will determin if two lists share any similar values and will return true if the do and flase if not\n",
    "\n",
    "def overlapping(first,second):\n",
    "    i = 0  #this will count the number of like elements\n",
    "    #this nestled for loop goes through and checks each element in the first set against every element in the second\n",
    "    for n in first:\n",
    "        for q in second:\n",
    "            if n == q:\n",
    "                i +=1\n",
    "            else:\n",
    "                i += 0\n",
    "    if i > 0:\n",
    "        return True\n",
    "    else:\n",
    "        return False\n",
    "\n",
    "#testing the various outcomes with different inputs\n",
    "a = overlapping([1,2,3,8],[2,4,8,6])\n",
    "\n",
    "b = overlapping([0,1,2,3], [4,5,6,7])\n",
    "\n",
    "c = overlapping([1,2],[6,5,4,3,1,0])\n",
    "\n",
    "if a:\n",
    "    print 'works'\n", “AW: () needed for print”
    "else:\n",
    "    print 'error'\n", “AW: () needed for print”
    "\n",
    "if b:\n",
    "    print 'error'\n", “AW: () needed for print”
    "else:\n",
    "    print 'works'\n", “AW: () needed for print”
    "\n",
    "if c:\n",
    "    print 'works'\n", “AW: () needed for print”
    "else:\n",
    "    print 'error'" “AW: () needed for print”
   ]
“AW: write function header comments (explaining what the function does, what the input parameters are, and what is returned).Please provide in-line comments for all statements”
  },
  {
   "cell_type": "markdown",
   "metadata": {},
   "source": [
    "# 12)"
   ]
  },
  {
   "cell_type": "code",
   "execution_count": 20,
   "metadata": {
    "collapsed": false
   },
   "outputs": [
    {
     "name": "stdout",
     "output_type": "stream",
     "text": [
      "wwwwwwwwww\n",
      "GGG\n"
     ]
“AW: write function header comments (explaining what the function does, what the input parameters are, and what is returned).Please provide in-line comments for all statements”
    }
   ],
   "source": [
    "#this function will gennerate the inputted character however many times is specified\n",
    "\n",
    "def generate_n_chars(n,char):\n",
    "    i = 0\n",
    "    out = ''\n",
    "    while i < n:\n",
    "        out += char\n",
    "        i += 1\n",
    "    \n",
    "    print out\n", “AW: () needed for print”
    "\n",
    "generate_n_chars(10,'w')\n",
    "\n",
    "generate_n_chars(3,'G')"
   ]
“AW: Every function should have doc header comments using triple quotes so the function is supported by the help() function”
  },
  {
   "cell_type": "code",
   "execution_count": null,
   "metadata": {
    "collapsed": true
   },
   "outputs": [],
   "source": []
  }
 ],
 "metadata": {
  "kernelspec": {
   "display_name": "Python 2",
   "language": "python",
   "name": "python2"
  },
  "language_info": {
   "codemirror_mode": {
    "name": "ipython",
    "version": 2
   },
   "file_extension": ".py",
   "mimetype": "text/x-python",
   "name": "python",
   "nbconvert_exporter": "python",
   "pygments_lexer": "ipython2",
   "version": "2.7.10"
  }
 },
 "nbformat": 4,
 "nbformat_minor": 0
}
