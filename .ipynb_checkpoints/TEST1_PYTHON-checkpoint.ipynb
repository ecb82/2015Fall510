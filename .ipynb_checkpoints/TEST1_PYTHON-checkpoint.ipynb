{
 "cells": [
  {
   "cell_type": "markdown",
   "metadata": {},
   "source": [
    "# Perimiter and Area"
   ]
  },
  {
   "cell_type": "code",
   "execution_count": 4,
   "metadata": {
    "collapsed": false
   },
   "outputs": [
    {
     "name": "stdout",
     "output_type": "stream",
     "text": [
      "8.0\n",
      "6.0\n",
      "27.4809029672\n"
     ]
    }
   ],
   "source": [
    "#Here we want to define functions that will give the perimiter and area of a simple polygon\n",
    "#these functions will take a list of coordinate pairs as an argument, where the coordinates\n",
    "#represent the vertecies of the polygon\n",
    "\n",
    "def polygperim(coords):\n",
    "    \n",
    "    \"\"\"polygperim(pair_list)\n",
    "    This function takes the argument pair_list which must be a list of oredered pairs.  These \n",
    "    pairs must be only real numbers and represent the (x,y) coordinates of a simple polygon. \n",
    "    The function will print the length of the perimiter the polygon described by the list\"\"\"\n",
    "    \n",
    "    #here coords is a vector of numeric pairs so its length is the number of vertecies\n",
    "    n = len(coords)\n",
    "    perim = 0 #starting value of perimiter \n",
    "    \n",
    "    #to get the length of each side we use a loop to cycle through each vertex\n",
    "    for k in range(0,n):\n",
    "        #two possibilities:\n",
    "        \n",
    "        #the tertex is not last and we can get the distance to the next vertex\n",
    "        if k<n-1:\n",
    "            [x0,y0] = coords[k] #position of vertex k\n",
    "            [x1,y1] = coords[(k+1)]  #position of next vertex in list\n",
    "            side = ((x1-x0)**(2) + (y1-y0)**(2))**(0.5)  #equation of distance between points\n",
    "            perim += side  #add this distance to the perimiter already found\n",
    "        \n",
    "        #the vertex is last in the list, so we get the distance back to the first vertex\n",
    "        elif k == n-1:\n",
    "            [x0,y0] = coords[k] #position of last vertex\n",
    "            [x1,y1] = coords[0]  #position of first vertex\n",
    "            \n",
    "            #find the distance between and add to perimiter\n",
    "            side = ((x1-x0)**(2) + (y1-y0)**(2))**(0.5)\n",
    "            perim += side\n",
    "    #the loop has modified the local variable perim to give the length of the perimiter, so we print this\n",
    "    print (perim)\n",
    "\n",
    "#___________________________________________________________________\n",
    "#test our function:\n",
    "\n",
    "#these are vertecies of simple polygons   \n",
    "square = ((0,0),(2,0),(2,2),(0,2))\n",
    "triangle = ((1,0),(-1,0),(0,3**(.5)))\n",
    "#also make an irregular polygon to test if function works for non regular shapes\n",
    "irreg = ((3,2),(1,3),(-3,3),(-4,1),(-4,-2),(-3,-4),(-1,-6),(1,-5),(2,-3),(4,-2),(4,0))\n",
    "\n",
    "#test the function on these polygons:\n",
    "polygperim(square)\n",
    "polygperim(triangle) \n",
    "polygperim(irreg)\n",
    "    "
   ]
  },
  {
   "cell_type": "code",
   "execution_count": 5,
   "metadata": {
    "collapsed": false
   },
   "outputs": [
    {
     "name": "stdout",
     "output_type": "stream",
     "text": [
      "4.0\n",
      "1.73205080757\n",
      "53.0\n"
     ]
    }
   ],
   "source": [
    "#now we need to create a function that will give the area of the polygon in a simmilar way\n",
    "\n",
    "def polygarea(coords):\n",
    "    \n",
    "    \"\"\"polygarea(pair_list)\n",
    "    This function takes a list of ordered pairs as an argument. The function interprits this list as \n",
    "    the vertecies of a simple polygon, prints the area of said polygon. The pairs must have \n",
    "    real numeric values, and the list can be any finite length.\"\"\"\n",
    "    \n",
    "    #the length of the argument will give us the number of vertecies\n",
    "    n = len(coords)\n",
    "    area = 0 #starting area\n",
    "    \n",
    "    #we can find the area of any polygon by making use of Green's theorem, which depends only on the\n",
    "    #position of adjacent vertecies\n",
    "    \n",
    "    #this loop goes through each vertex and applies Green's theorem \n",
    "    for k in range(0,n):\n",
    "        #two posibilities for each vertex:\n",
    "        \n",
    "        #not the last vertex in the list, and we can use the as the adjacent\n",
    "        if k<n-1:\n",
    "            [x0,y0] = coords[k] #x,y values of vertex k\n",
    "            [x1,y1] = coords[(k+1)] #x,y values of next vertex in list\n",
    "            triarea = abs(x0*y1 - x1*y0) #calculates Greens equation\n",
    "            area += triarea #Greens theorem is a sum, so we add our calculation to all previous\n",
    "        \n",
    "        #k is last in the list, so take the first as the adjacent vertex\n",
    "        elif k == n-1:\n",
    "            [x0,y0] = coords[k] #x,y values of last vertex\n",
    "            [x1,y1] = coords[0] #x,y values of first vertex\n",
    "            #Green's theorem\n",
    "            triarea = abs(x0*y1 - x1*y0) \n",
    "            area += triarea\n",
    "    \n",
    "    #now that we have calculated the sum of Green's theorem we have twice the area, so we simply print\n",
    "    #half of what is produced by the loop to get the final area\n",
    "    print (area/2.0)\n",
    "    \n",
    "\n",
    "#testing our function with the lists made earlier:    \n",
    "polygarea(square)\n",
    "\n",
    "polygarea(triangle)\n",
    "\n",
    "polygarea(irreg)"
   ]
  }
 ],
 "metadata": {
  "kernelspec": {
   "display_name": "Python 2",
   "language": "python",
   "name": "python2"
  },
  "language_info": {
   "codemirror_mode": {
    "name": "ipython",
    "version": 2
   },
   "file_extension": ".py",
   "mimetype": "text/x-python",
   "name": "python",
   "nbconvert_exporter": "python",
   "pygments_lexer": "ipython2",
   "version": "2.7.10"
  }
 },
 "nbformat": 4,
 "nbformat_minor": 0
}
