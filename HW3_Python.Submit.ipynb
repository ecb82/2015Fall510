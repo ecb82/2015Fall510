{
 "cells": [
  {
   "cell_type": "markdown",
   "metadata": {},
   "source": [
    "# Homework Assignment 3"
   ]
  },
  {
   "cell_type": "markdown",
   "metadata": {},
   "source": [
    "# 1)\n"
   ]
  },
  {
   "cell_type": "code",
   "execution_count": 5,
   "metadata": {
    "collapsed": false
   },
   "outputs": [
    {
     "name": "stdout",
     "output_type": "stream",
     "text": [
      "*\n",
      "**\n",
      "***\n",
      "******************\n",
      "*****\n",
      "******\n",
      "************\n"
     ]
    }
   ],
   "source": [
    "#we want to define a procedure that will give a histogram for the vlaues of an inputed list:\n",
    "\n",
    "def histogram(integers):\n",
“AW: write function header comments (explaining what the function does, what the input parameters are, and what is returned) and in-line comments for each statement explaining logic”
    "    #we want to make a different bar for each value, so we use a for loop\n",
    "    for n in integers:\n",
    "        #these starting values will be our bases to add to\n",
    "        i = 0\n",
    "        bar = ''\n",
    "        \n",
    "        #this loop will append to our bases according to how large the value is\n",
    "        while i < n:\n",
    "            \n",
    "            bar += '*'\n",
    "            i += 1\n",
    "            \n",
    "        print bar\n", “AW: () needed for print”
    "\n",
    "        \n",
    "histogram([1,2,3])\n",
    "\n",
    "\n",
    "histogram([18,5,6,12])"
   ]
  },
  {
   "cell_type": "markdown",
   "metadata": {},
   "source": [
    "# 2)\n"
   ]
  },
  {
   "cell_type": "code",
   "execution_count": 9,
   "metadata": {
    "collapsed": false
   },
   "outputs": [
    {
     "name": "stdout",
     "output_type": "stream",
     "text": [
      "[16] [4] [5]\n"
     ]
    }
   ],
   "source": [
    "#this function will find the max number in a list of any length\n",
    "\n",
    "def max_in_list(somelist):\n",
“AW: Write function header comments (explaining what the function does, what the input parameters are, and what is returned) and in-line comments for each statement explaining logic”
    "    #if the list has a length of 1 then we have gone through every number and are left with the largest\n",
    "    if len(somelist) == 1:\n",
    "        return somelist\n",
    "    #this is the recursive heart of the function\n",
    "    elif len(somelist) > 1:\n",
    "        temp = somelist.pop()   #this takes the last number of the list as an int val\n",
    "        \n",
    "        #testing our value against the last element in the list\n",
    "        if temp < somelist[len(somelist)-1]:\n",
    "            #means that the value is smaller than the last element in the list, so we only need to find the max of list\n",
    "            return max_in_list(somelist)\n",
    "        if temp >= somelist[len(somelist)-1]:\n",
    "            #means that value is bigger or equal to the last element, so we can get rid of the last element\n",
    "            trash = somelist.pop()\n",
    "            #append the bigger value to the end and go through this list\n",
    "            somelist += [temp]\n",
    "            return max_in_list(somelist)\n",
    "#test when the element is placed randomly in the list      \n",
    "testrand = max_in_list([1,2,3,4,2,16,5,0])\n",
    "#test when largest at the end of the list\n",
    "testend = max_in_list([1,2,3,4])\n",
    "#test when largest at the begining\n",
    "testfront = max_in_list([5,4,3,2,1])\n",
    "\n",
    "\n",
    "print testrand, testend, testfront\n", “AW: () needed for print”
    "\n",
    "\n",
    "#or funtion works!!"
   ]
  },
  {
   "cell_type": "markdown",
   "metadata": {},
   "source": [
    "# 3)"
   ]
  },
  {
   "cell_type": "code",
   "execution_count": 10,
   "metadata": {
    "collapsed": false
   },
   "outputs": [
    {
     "name": "stdout",
     "output_type": "stream",
     "text": [
      "[1, 4, 2, 8, 5]\n"
     ]
    }
   ],
   "source": [
    "#we want to take a list of words and generate a list of coresponding lengths\n",
    "\n",
    "def word_len_list(wordlist):\n",
“AW: Write function header comments (explaining what the function does, what the input parameters are, and what is returned) and in-line comments for each statement explaining logic”
    "    #if the list is empty then we have gone through every word\n",
    "    if len(wordlist) == 0:\n",
    "        return wordlist\n",
    "    #this will look at the last word and tell us how long it is then add it to the returned list\n",
    "    elif len(wordlist) > 0:\n",
    "        temp = wordlist.pop()  #removes the last word from the list\n",
    "        num = len(temp)  #tells us the length\n",
    "        #now we just return this value in the order that we looked at it, i.e. at the end of the list\n",
    "        return word_len_list(wordlist) + [num]\n",
    "    \n",
    "test = word_len_list(['i','hope','my','function','works'])\n",
    "\n",
    "print test\n", “AW: () needed for print”
    "\n",
    "#it does seem to work"
   ]
  },
  {
   "cell_type": "markdown",
   "metadata": {},
   "source": [
    "# 4)"
   ]
  },
  {
   "cell_type": "code",
   "execution_count": 11,
   "metadata": {
    "collapsed": false
   },
   "outputs": [
    {
     "name": "stdout",
     "output_type": "stream",
     "text": [
      "[16]\n"
     ]
    }
   ],
   "source": [
    "#here we want to find the longest word in a list and return its length\n",
    "#this will be greatly simplified if we make use of our previous two functions: word_len_list and max_in_list\n",
    "\n",
    "def find_longest_word(listwords):\n",
“AW: Write function header comments (explaining what the function does, what the input parameters are, and what is returned) and in-line comments for each statement explaining logic”
    "    #first we want to find the length of each of the words so we use our function that we wrote in 3)\n",
    "    lenlist = word_len_list(listwords)\n",
    "    #now we have a list of the length of each word in order\n",
    "    #now we can use the function from 2) to get the largest:\n",
    "    longest = max_in_list(lenlist)\n",
    "    \n",
    "    print longest\n", “AW: () needed for print”
    "    \n",
    "\n",
    "example = ['the','last','word','should','be','longest','notactuallyaword']\n",
    "\n",
    "find_longest_word(example)\n",
    "\n",
    "#simple and it worked!!"
   ]
  },
  {
   "cell_type": "markdown",
   "metadata": {},
   "source": [
    "# 5)"
   ]
  },
  {
   "cell_type": "code",
   "execution_count": 13,
   "metadata": {
    "collapsed": false
   },
   "outputs": [
    {
     "name": "stdout",
     "output_type": "stream",
     "text": [
      "['like', 'code']\n"
     ]
    }
   ],
   "source": [
    "#we want to define a funtion that takes a list of words and an integer and returns all the words longer than the integer\n",
    "\n",
    "def filter_long_words(wordlist,n):\n",
“AW: Write function header comments (explaining what the function does, what the input parameters are, and what is returned) and in-line comments for each statement explaining logic”
    "    longerwords = []  #this gives us an empty list to add our long words to\n",
    "    #we want to test each word one at a time so we use a for loop\n",
    "    for i in wordlist:\n",
    "        #only interested in the case that the word is longer than n\n",
    "        if len(i) > n:\n",
    "            longerwords += [i]\n",
    "    \n",
    "    print longerwords\n", “AW: () needed for print”
    "\n",
    "#testing our function: \n",
    "filter_long_words(['i','like','to','code'],2)\n"
   ]
  },
  {
   "cell_type": "markdown",
   "metadata": {},
   "source": [
    "# 6)"
   ]
  },
  {
   "cell_type": "code",
   "execution_count": 1,
   "metadata": {
    "collapsed": true
   },
   "outputs": [],
   "source": [
    "import string"
   ]
  },
  {
   "cell_type": "code",
   "execution_count": 2,
   "metadata": {
    "collapsed": false
   },
   "outputs": [
    {
     "name": "stdout",
     "output_type": "stream",
     "text": [
      "Help on module string:\n",
      "\n",
      "NAME\n",
      "    string - A collection of string operations (most are no longer used).\n",
      "\n",
      "FILE\n",
      "    c:\\users\\eric budge\\anaconda\\lib\\string.py\n",
      "\n",
      "DESCRIPTION\n",
      "    Warning: most of the code you see here isn't normally used nowadays.\n",
      "    Beginning with Python 1.6, many of these functions are implemented as\n",
      "    methods on the standard string object. They used to be implemented by\n",
      "    a built-in module called strop, but strop is now obsolete itself.\n",
      "    \n",
      "    Public module variables:\n",
      "    \n",
      "    whitespace -- a string containing all characters considered whitespace\n",
      "    lowercase -- a string containing all characters considered lowercase letters\n",
      "    uppercase -- a string containing all characters considered uppercase letters\n",
      "    letters -- a string containing all characters considered letters\n",
      "    digits -- a string containing all characters considered decimal digits\n",
      "    hexdigits -- a string containing all characters considered hexadecimal digits\n",
      "    octdigits -- a string containing all characters considered octal digits\n",
      "    punctuation -- a string containing all characters considered punctuation\n",
      "    printable -- a string containing all characters considered printable\n",
      "\n",
      "CLASSES\n",
      "    __builtin__.object\n",
      "        Formatter\n",
      "        Template\n",
      "    \n",
      "    class Formatter(__builtin__.object)\n",
      "     |  Methods defined here:\n",
      "     |  \n",
      "     |  check_unused_args(self, used_args, args, kwargs)\n",
      "     |  \n",
      "     |  convert_field(self, value, conversion)\n",
      "     |  \n",
      "     |  format(*args, **kwargs)\n",
      "     |  \n",
      "     |  format_field(self, value, format_spec)\n",
      "     |  \n",
      "     |  get_field(self, field_name, args, kwargs)\n",
      "     |      # given a field_name, find the object it references.\n",
      "     |      #  field_name:   the field being looked up, e.g. \"0.name\"\n",
      "     |      #                 or \"lookup[3]\"\n",
      "     |      #  used_args:    a set of which args have been used\n",
      "     |      #  args, kwargs: as passed in to vformat\n",
      "     |  \n",
      "     |  get_value(self, key, args, kwargs)\n",
      "     |  \n",
      "     |  parse(self, format_string)\n",
      "     |      # returns an iterable that contains tuples of the form:\n",
      "     |      # (literal_text, field_name, format_spec, conversion)\n",
      "     |      # literal_text can be zero length\n",
      "     |      # field_name can be None, in which case there's no\n",
      "     |      #  object to format and output\n",
      "     |      # if field_name is not None, it is looked up, formatted\n",
      "     |      #  with format_spec and conversion and then used\n",
      "     |  \n",
      "     |  vformat(self, format_string, args, kwargs)\n",
      "     |  \n",
      "     |  ----------------------------------------------------------------------\n",
      "     |  Data descriptors defined here:\n",
      "     |  \n",
      "     |  __dict__\n",
      "     |      dictionary for instance variables (if defined)\n",
      "     |  \n",
      "     |  __weakref__\n",
      "     |      list of weak references to the object (if defined)\n",
      "    \n",
      "    class Template(__builtin__.object)\n",
      "     |  A string class for supporting $-substitutions.\n",
      "     |  \n",
      "     |  Methods defined here:\n",
      "     |  \n",
      "     |  __init__(self, template)\n",
      "     |  \n",
      "     |  safe_substitute(*args, **kws)\n",
      "     |  \n",
      "     |  substitute(*args, **kws)\n",
      "     |  \n",
      "     |  ----------------------------------------------------------------------\n",
      "     |  Data descriptors defined here:\n",
      "     |  \n",
      "     |  __dict__\n",
      "     |      dictionary for instance variables (if defined)\n",
      "     |  \n",
      "     |  __weakref__\n",
      "     |      list of weak references to the object (if defined)\n",
      "     |  \n",
      "     |  ----------------------------------------------------------------------\n",
      "     |  Data and other attributes defined here:\n",
      "     |  \n",
      "     |  __metaclass__ = <class 'string._TemplateMetaclass'>\n",
      "     |  \n",
      "     |  \n",
      "     |  delimiter = '$'\n",
      "     |  \n",
      "     |  idpattern = '[_a-z][_a-z0-9]*'\n",
      "     |  \n",
      "     |  pattern = <_sre.SRE_Pattern object>\n",
      "\n",
      "FUNCTIONS\n",
      "    atof(s)\n",
      "        atof(s) -> float\n",
      "        \n",
      "        Return the floating point number represented by the string s.\n",
      "    \n",
      "    atoi(s, base=10)\n",
      "        atoi(s [,base]) -> int\n",
      "        \n",
      "        Return the integer represented by the string s in the given\n",
      "        base, which defaults to 10.  The string s must consist of one\n",
      "        or more digits, possibly preceded by a sign.  If base is 0, it\n",
      "        is chosen from the leading characters of s, 0 for octal, 0x or\n",
      "        0X for hexadecimal.  If base is 16, a preceding 0x or 0X is\n",
      "        accepted.\n",
      "    \n",
      "    atol(s, base=10)\n",
      "        atol(s [,base]) -> long\n",
      "        \n",
      "        Return the long integer represented by the string s in the\n",
      "        given base, which defaults to 10.  The string s must consist\n",
      "        of one or more digits, possibly preceded by a sign.  If base\n",
      "        is 0, it is chosen from the leading characters of s, 0 for\n",
      "        octal, 0x or 0X for hexadecimal.  If base is 16, a preceding\n",
      "        0x or 0X is accepted.  A trailing L or l is not accepted,\n",
      "        unless base is 0.\n",
      "    \n",
      "    capitalize(s)\n",
      "        capitalize(s) -> string\n",
      "        \n",
      "        Return a copy of the string s with only its first character\n",
      "        capitalized.\n",
      "    \n",
      "    capwords(s, sep=None)\n",
      "        capwords(s [,sep]) -> string\n",
      "        \n",
      "        Split the argument into words using split, capitalize each\n",
      "        word using capitalize, and join the capitalized words using\n",
      "        join.  If the optional second argument sep is absent or None,\n",
      "        runs of whitespace characters are replaced by a single space\n",
      "        and leading and trailing whitespace are removed, otherwise\n",
      "        sep is used to split and join the words.\n",
      "    \n",
      "    center(s, width, *args)\n",
      "        center(s, width[, fillchar]) -> string\n",
      "        \n",
      "        Return a center version of s, in a field of the specified\n",
      "        width. padded with spaces as needed.  The string is never\n",
      "        truncated.  If specified the fillchar is used instead of spaces.\n",
      "    \n",
      "    count(s, *args)\n",
      "        count(s, sub[, start[,end]]) -> int\n",
      "        \n",
      "        Return the number of occurrences of substring sub in string\n",
      "        s[start:end].  Optional arguments start and end are\n",
      "        interpreted as in slice notation.\n",
      "    \n",
      "    expandtabs(s, tabsize=8)\n",
      "        expandtabs(s [,tabsize]) -> string\n",
      "        \n",
      "        Return a copy of the string s with all tab characters replaced\n",
      "        by the appropriate number of spaces, depending on the current\n",
      "        column, and the tabsize (default 8).\n",
      "    \n",
      "    find(s, *args)\n",
      "        find(s, sub [,start [,end]]) -> in\n",
      "        \n",
      "        Return the lowest index in s where substring sub is found,\n",
      "        such that sub is contained within s[start,end].  Optional\n",
      "        arguments start and end are interpreted as in slice notation.\n",
      "        \n",
      "        Return -1 on failure.\n",
      "    \n",
      "    index(s, *args)\n",
      "        index(s, sub [,start [,end]]) -> int\n",
      "        \n",
      "        Like find but raises ValueError when the substring is not found.\n",
      "    \n",
      "    join(words, sep=' ')\n",
      "        join(list [,sep]) -> string\n",
      "        \n",
      "        Return a string composed of the words in list, with\n",
      "        intervening occurrences of sep.  The default separator is a\n",
      "        single space.\n",
      "        \n",
      "        (joinfields and join are synonymous)\n",
      "    \n",
      "    joinfields = join(words, sep=' ')\n",
      "        join(list [,sep]) -> string\n",
      "        \n",
      "        Return a string composed of the words in list, with\n",
      "        intervening occurrences of sep.  The default separator is a\n",
      "        single space.\n",
      "        \n",
      "        (joinfields and join are synonymous)\n",
      "    \n",
      "    ljust(s, width, *args)\n",
      "        ljust(s, width[, fillchar]) -> string\n",
      "        \n",
      "        Return a left-justified version of s, in a field of the\n",
      "        specified width, padded with spaces as needed.  The string is\n",
      "        never truncated.  If specified the fillchar is used instead of spaces.\n",
      "    \n",
      "    lower(s)\n",
      "        lower(s) -> string\n",
      "        \n",
      "        Return a copy of the string s converted to lowercase.\n",
      "    \n",
      "    lstrip(s, chars=None)\n",
      "        lstrip(s [,chars]) -> string\n",
      "        \n",
      "        Return a copy of the string s with leading whitespace removed.\n",
      "        If chars is given and not None, remove characters in chars instead.\n",
      "    \n",
      "    maketrans(...)\n",
      "        maketrans(frm, to) -> string\n",
      "        \n",
      "        Return a translation table (a string of 256 bytes long)\n",
      "        suitable for use in string.translate.  The strings frm and to\n",
      "        must be of the same length.\n",
      "    \n",
      "    replace(s, old, new, maxreplace=-1)\n",
      "        replace (str, old, new[, maxreplace]) -> string\n",
      "        \n",
      "        Return a copy of string str with all occurrences of substring\n",
      "        old replaced by new. If the optional argument maxreplace is\n",
      "        given, only the first maxreplace occurrences are replaced.\n",
      "    \n",
      "    rfind(s, *args)\n",
      "        rfind(s, sub [,start [,end]]) -> int\n",
      "        \n",
      "        Return the highest index in s where substring sub is found,\n",
      "        such that sub is contained within s[start,end].  Optional\n",
      "        arguments start and end are interpreted as in slice notation.\n",
      "        \n",
      "        Return -1 on failure.\n",
      "    \n",
      "    rindex(s, *args)\n",
      "        rindex(s, sub [,start [,end]]) -> int\n",
      "        \n",
      "        Like rfind but raises ValueError when the substring is not found.\n",
      "    \n",
      "    rjust(s, width, *args)\n",
      "        rjust(s, width[, fillchar]) -> string\n",
      "        \n",
      "        Return a right-justified version of s, in a field of the\n",
      "        specified width, padded with spaces as needed.  The string is\n",
      "        never truncated.  If specified the fillchar is used instead of spaces.\n",
      "    \n",
      "    rsplit(s, sep=None, maxsplit=-1)\n",
      "        rsplit(s [,sep [,maxsplit]]) -> list of strings\n",
      "        \n",
      "        Return a list of the words in the string s, using sep as the\n",
      "        delimiter string, starting at the end of the string and working\n",
      "        to the front.  If maxsplit is given, at most maxsplit splits are\n",
      "        done. If sep is not specified or is None, any whitespace string\n",
      "        is a separator.\n",
      "    \n",
      "    rstrip(s, chars=None)\n",
      "        rstrip(s [,chars]) -> string\n",
      "        \n",
      "        Return a copy of the string s with trailing whitespace removed.\n",
      "        If chars is given and not None, remove characters in chars instead.\n",
      "    \n",
      "    split(s, sep=None, maxsplit=-1)\n",
      "        split(s [,sep [,maxsplit]]) -> list of strings\n",
      "        \n",
      "        Return a list of the words in the string s, using sep as the\n",
      "        delimiter string.  If maxsplit is given, splits at no more than\n",
      "        maxsplit places (resulting in at most maxsplit+1 words).  If sep\n",
      "        is not specified or is None, any whitespace string is a separator.\n",
      "        \n",
      "        (split and splitfields are synonymous)\n",
      "    \n",
      "    splitfields = split(s, sep=None, maxsplit=-1)\n",
      "        split(s [,sep [,maxsplit]]) -> list of strings\n",
      "        \n",
      "        Return a list of the words in the string s, using sep as the\n",
      "        delimiter string.  If maxsplit is given, splits at no more than\n",
      "        maxsplit places (resulting in at most maxsplit+1 words).  If sep\n",
      "        is not specified or is None, any whitespace string is a separator.\n",
      "        \n",
      "        (split and splitfields are synonymous)\n",
      "    \n",
      "    strip(s, chars=None)\n",
      "        strip(s [,chars]) -> string\n",
      "        \n",
      "        Return a copy of the string s with leading and trailing\n",
      "        whitespace removed.\n",
      "        If chars is given and not None, remove characters in chars instead.\n",
      "        If chars is unicode, S will be converted to unicode before stripping.\n",
      "    \n",
      "    swapcase(s)\n",
      "        swapcase(s) -> string\n",
      "        \n",
      "        Return a copy of the string s with upper case characters\n",
      "        converted to lowercase and vice versa.\n",
      "    \n",
      "    translate(s, table, deletions='')\n",
      "        translate(s,table [,deletions]) -> string\n",
      "        \n",
      "        Return a copy of the string s, where all characters occurring\n",
      "        in the optional argument deletions are removed, and the\n",
      "        remaining characters have been mapped through the given\n",
      "        translation table, which must be a string of length 256.  The\n",
      "        deletions argument is not allowed for Unicode strings.\n",
      "    \n",
      "    upper(s)\n",
      "        upper(s) -> string\n",
      "        \n",
      "        Return a copy of the string s converted to uppercase.\n",
      "    \n",
      "    zfill(x, width)\n",
      "        zfill(x, width) -> string\n",
      "        \n",
      "        Pad a numeric string x with zeros on the left, to fill a field\n",
      "        of the specified width.  The string x is never truncated.\n",
      "\n",
      "DATA\n",
      "    ascii_letters = 'abcdefghijklmnopqrstuvwxyzABCDEFGHIJKLMNOPQRSTUVWXYZ'\n",
      "    ascii_lowercase = 'abcdefghijklmnopqrstuvwxyz'\n",
      "    ascii_uppercase = 'ABCDEFGHIJKLMNOPQRSTUVWXYZ'\n",
      "    digits = '0123456789'\n",
      "    hexdigits = '0123456789abcdefABCDEF'\n",
      "    letters = 'abcdefghijklmnopqrstuvwxyzABCDEFGHIJKLMNOPQRSTUVWXYZ'\n",
      "    lowercase = 'abcdefghijklmnopqrstuvwxyz'\n",
      "    octdigits = '01234567'\n",
      "    printable = '0123456789abcdefghijklmnopqrstuvwxyzABCDEFGHIJKLMNOPQRSTU...\n",
      "    punctuation = '!\"#$%&\\'()*+,-./:;<=>?@[\\\\]^_`{|}~'\n",
      "    uppercase = 'ABCDEFGHIJKLMNOPQRSTUVWXYZ'\n",
      "    whitespace = '\\t\\n\\x0b\\x0c\\r '\n",
      "\n",
      "\n"
     ]
    }
   ],
   "source": [
    "help(string)"
   ]
  },
  {
   "cell_type": "code",
   "execution_count": 4,
   "metadata": {
    "collapsed": false
   },
   "outputs": [
    {
     "name": "stdout",
     "output_type": "stream",
     "text": [
      "This string is a palendome!!\n",
      "This string is a palendome!!\n",
      "Your string is NOT a palendrome\n"
     ]
    }
   ],
   "source": [
    "#this function will test if a given string is a palendrome for both words and for sentences\n",
    "\n",
    "#note that we have imported string so that we can use some of the functions to make the process simpler\n",
    "def pal_test(somestring):\n",
“AW: Write function header comments (explaining what the function does, what the input parameters are, and what is returned) and in-line comments for each statement explaining logic”
    "    #the first few lines will convert the string into a new string of all lowercase letters with no spaces or punctuation\n",
    "    punc = string.punctuation\n",
    "    no_punc = somestring.translate(string.maketrans(\"\",\"\"), punc)  #removes punctuation\n",
    "    no_spce_punc = no_punc.translate(string.maketrans(\"\",\"\"), ' ')  #removes spaces\n",
    "    finstring = string.lower(no_spce_punc)  #makes all lowercase\n",
    "    \n",
    "    #now we have a string like we have tested for a paendrome before, so we can simply use the same test now\n",
    "    #to avoid complicationsd, the exact function from HW 2, question 9 that i wrote is coppied and pasted below:\n",
    "    \n",
    "    letters = list(finstring) #making the word into a list makes it easier to check if the letters ar identicle\n",
    "    sim = 0 #will be used to count the simetrical letters\n",
    "    n = len(letters)\n",
    "    #we need to test two scenarios, when the input is an even length and when it is an odd length\n",
    "    if n%2 == 0:\n",
    "        i = 0\n",
    "        #this loop checks the letters on each side that need to be the same\n",
    "        while i < n/2:\n",
    "            if letters[i] == letters[n-i-1]:\n",
    "                sim += 2\n",
    "            else:\n",
    "                sim += 0\n",
    "            i += 1\n",
    "    #for a word of odd length\n",
    "    elif n%2 == 1:\n",
    "        i = 0\n",
    "        #loop checks the letters\n",
    "        while i < n/2:\n",
    "            if letters[i] == letters [n-i-1]:\n",
    "                sim += 2\n",
    "            else:\n",
    "                sim += 0\n",
    "            i += 1\n",
    "        sim += 1\n",
    "    \n",
    "    #if the input was a palendrome then the counted simetrical letters will equal the length of the input\n",
    "    if sim == n:\n",
    "        print 'This string is a palendome!!'\n", “AW: () needed for print”
    "    else:\n",
    "        print 'Your string is NOT a palendrome'\n", “AW: () needed for print”
    "\n",
    "#testing our function for all relivent cases:        \n",
    "sent = \"Dammit, I'm mad!\"\n",
    "word = 'radar'\n",
    "trick = \"I'm not a palendrome\"\n",
    "\n",
    "pal_test(sent)\n",
    "pal_test(word)\n",
    "pal_test(trick)\n",
    "\n",
    "#our function works!"
   ]
  },
  {
   "cell_type": "markdown",
   "metadata": {},
   "source": [
    "# 7)"
   ]
  },
  {
   "cell_type": "code",
   "execution_count": 5,
   "metadata": {
    "collapsed": false
   },
   "outputs": [
    {
     "name": "stdout",
     "output_type": "stream",
     "text": [
      "this sentence is a pangram\n",
      "this sentence is missing at least one letter\n"
     ]
    }
   ],
   "source": [
    "#this function will test if a sentence contains all the letters of the english alphabet\n",
    "\n",
    "def pangram_test(sentence):\n",
“AW: Write function header comments (explaining what the function does, what the input parameters are, and what is returned) and in-line comments for each statement explaining logic”
    "    alpha = string.lowercase  #gives a string of all the characters we are interested in \n",
    "    lsentence = string.lower(sentence)  #makes the input all lowercase to avoid counting capitalized letters twice\n",
    "    lettersin = []  #will become the list of all the different letters in the sentence\n",
    "    \n",
    "    #tests to see if every letter has already occoured\n",
    "    for char in lsentence:\n",
    "        if char in alpha:\n",
    "            if char not in lettersin:\n",
    "                lettersin += [char]\n",
    "    #if there are 26 different letters in our sentence then we must have used every leter in the alphabet           \n",
    "    if len(lettersin) == 26:\n",
    "        print 'this sentence is a pangram'\n", “AW: () needed for print”
    "    else:\n",
    "        print 'this sentence is missing at least one letter'\n", “AW: () needed for print”
    "\n",
    "#testing our function       \n",
    "pan = 'The quick brown fox jumps over the lazy dog.'\n",
    "notpan = 'I should be missing a letter or two.'\n",
    "\n",
    "pangram_test(pan)\n",
    "pangram_test(notpan)\n",
    "\n",
    "#it appears to work!"
   ]
  },
  {
   "cell_type": "markdown",
   "metadata": {},
   "source": [
    "# 8)"
   ]
  },
  {
   "cell_type": "code",
   "execution_count": 6,
   "metadata": {
    "collapsed": false
   },
   "outputs": [
    {
     "name": "stdout",
     "output_type": "stream",
     "text": [
      "5 bottles of coke on the wall 5 bottles of coke!\n",
      "Take one down, pass it around 4 bottles of coke on the wall!\n",
      "4 bottles of coke on the wall 4 bottles of coke!\n",
      "Take one down, pass it around 3 bottles of coke on the wall!\n",
      "3 bottles of coke on the wall 3 bottles of coke!\n",
      "Take one down, pass it around 2 bottles of coke on the wall!\n",
      "2 bottles of coke on the wall 2 bottles of coke!\n",
      "Take one down, pass it around 1 bottles of coke on the wall!\n",
      "1 bottles of coke on the wall 1 bottles of coke!\n",
      "Take one down, pass it around 0 bottles of coke on the wall!\n"
     ]
    }
   ],
   "source": [
    "#we want to write a code that will give all the lyrics of the 99 bottles song:\n",
    "\n",
    "def bottles_song(number):\n",
“AW: Write function header comments (explaining what the function does, what the input parameters are, and what is returned) and in-line comments for each statement explaining logic”
    "    #we want our loop to keep going till we reach zero so we use a while loop\n",
    "    while number > 0:\n",
    "        print number , 'bottles of coke on the wall', number, 'bottles of coke!'\n", “AW: () needed for print”
    "        print 'Take one down, pass it around', number - 1, 'bottles of coke on the wall!'\n", “AW: () needed for print”
    "        \n",
    "        #take off one bottle before going through the loop again\n",
    "        number -= 1\n",
    "\n",
    "#test this for a reletively small number for conviniece, will work for any positive integer\n",
    "bottles_song(5)"
   ]
  },
  {
   "cell_type": "markdown",
   "metadata": {},
   "source": [
    "# 9)\n"
   ]
  },
  {
   "cell_type": "code",
   "execution_count": 10,
   "metadata": {
    "collapsed": false
   },
   "outputs": [
    {
     "name": "stdout",
     "output_type": "stream",
     "text": [
      "god jul och gott nytt ar \n"
     ]
    }
   ],
   "source": [
    "#we want to write a function to translate a christmas greeting from english to sweadish using a dictionary\n",
    "\n",
    "def xmas_translate(greeting):\n",
“AW: Write function header comments (explaining what the function does, what the input parameters are, and what is returned) and in-line comments for each statement explaining logic”
    "    #first we have to give our dictionary that we want\n",
    "    my_dict = {'merry':'god', 'christmas':'jul', 'and':'och', 'happy':'gott', 'new':'nytt','year':'ar'}\n",
    "    \n",
    "    #convert our inout into a list\n",
    "    greetlist = string.split(greeting, ' ')\n",
    "    #this will keep track of the relivent index in the loop\n",
    "    i = 0\n",
    "    \n",
    "    for word in greetlist:\n",
    "        #only interested in the words that are keys\n",
    "        if word in my_dict:\n",
    "            #replace the words with their coresponding values\n",
    "            greetlist[i] = my_dict[word] + ' ' #add a space for readability\n",
    "        \n",
    "        i += 1\n",
    "        \n",
    "    print ''.join(greetlist)\n", “AW: () needed for print”
    "\n",
    "#testing our function:   \n",
    "xmas_translate('merry christmas and happy new year')"
   ]
  },
  {
   "cell_type": "markdown",
   "metadata": {},
   "source": [
    "# 10)"
   ]
  },
  {
   "cell_type": "code",
   "execution_count": 24,
   "metadata": {
    "collapsed": false
   },
   "outputs": [
    {
     "name": "stdout",
     "output_type": "stream",
     "text": [
      "[('a', 9), ('b', 8), ('z', 1)]\n"
     ]
    }
   ],
   "source": [
    "#here we want to define a funcion that will fond the frequency a letter occours and represents the frequency as a dictionary\n",
    "\n",
    "def char_freq(instring):\n",
“AW: Write function header comments (explaining what the function does, what the input parameters are, and what is returned) and in-line comments for each statement explaining logic”
    "    #match up the string form with the form of letters we want to count\n",
    "    alpha = list(string.lowercase)\n",
    "    countlist = string.lower(instring)\n",
    "    #empty lists that will hold the keys and values of our dictionary\n",
    "    dict_keys = []\n",
    "    dict_vals = []\n",
    "    \n",
    "    i = 0\n",
    "    #this loop counts every letter in the string and adds the non-zero results to the key and value lists \n",
    "    for letter in alpha:\n",
    "        freq = countlist.count(letter)\n",
    "        if freq > 0:\n",
    "            temp = alpha[i]\n",
    "            dict_keys += [temp]\n",
    "            dict_vals += [freq]\n",
    "        i += 1\n",
    "    \n",
    "    #now make our lists into a dictionary\n",
    "    freq_dict = dict(zip(dict_keys,dict_vals))\n",
    "    print freq_dict.items()\n", “AW: () needed for print”
    "\n",
    "#test our function with a random string of letters\n",
    "char_freq('ababaaabbbbaababaz')"
   ]
  },
  {
   "cell_type": "markdown",
   "metadata": {},
   "source": [
    "# 11)"
   ]
  },
  {
   "cell_type": "code",
   "execution_count": 35,
   "metadata": {
    "collapsed": false
   },
   "outputs": [
    {
     "name": "stdout",
     "output_type": "stream",
     "text": [
      "|furmodvfveumndrmpazv t| |apmhjzqaq phizmhkwuqvo|\n"
     ]
    }
   ],
   "source": [
    "# we want to write two sepereate codes that will encode and decode a cypher respectively\n",
    "\n",
    "#encode:\n",
    "def encode(message, ROT=13):\n",
“AW: Write function header comments (explaining what the function does, what the input parameters are, and what is returned) and in-line comments for each statement explaining logic”
    "    alpha_reg = list(string.lowercase) + [' ']  #this will remain our standard alphabet and will be our keywords\n",
    "    alpha_k = list(string.lowercase) + [' ']  #this will be modified into out cypher alphabet\n",
    "    #we need to make our message into all lowercase list\n",
    "    lowmessage = message.lower()\n",
    "    message_list = list(lowmessage)\n",
    "    \n",
    "    \n",
    "    i = 0\n",
    "    code = []  #this will hold our code once we apply the key\n",
    "    \n",
    "    #this applies the caeser shift of length ROT to our dictionary values\n",
    "    while i < ROT:\n",
    "        temp = alpha_k[0]\n",
    "        del alpha_k[0]\n",
    "        alpha_k += [temp]\n",
    "        i += 1\n",
    "    \n",
    "    \n",
    "    #assigns our shifted alphabet to the coresponding regular letter\n",
    "    key = dict(zip(alpha_reg,alpha_k))\n",
    "    \n",
    "    #encrpt our message\n",
    "    for letter in message_list:\n",
    "        temp = key[letter]\n",
    "        code += temp\n",
    "    \n",
    "    return '|' + ''.join(code) + '|'\n",
    "\n",
“AW: does your code work for “Pnrfne pvcure? V zhpu cersre Pnrfne fnynq!” ?”
    "#test our function with the default shift of 13\n",
    "cypher13 = encode('the british are coming')\n",
    "#test with shift of 8\n",
    "cypher8 = encode('The British are coming',8)\n",
    "print cypher13, cypher8\n", “AW: () needed for print”
    "\n",
    "#our encryption seems to be working!"
   ]
  },
  {
   "cell_type": "code",
   "execution_count": 39,
   "metadata": {
    "collapsed": false
   },
   "outputs": [
    {
     "name": "stdout",
     "output_type": "stream",
     "text": [
      "|the british are coming|\n"
     ]
    }
   ],
   "source": [
    "#now we are going to create  a decryption for an encrypted message, when we know the ROT shift value\n",
    "\n",
    "def decrypt(jibber, ROT):\n",
“AW: Write function header comments (explaining what the function does, what the input parameters are, and what is returned) and in-line comments for each statement explaining logic”
    "    alpha_reg = list(string.lowercase) + [' ']  #this will remain our standard alphabet and will be our keywords\n",
    "    alpha_k = list(string.lowercase) + [' ']  #this will be modified into out cypher alphabet\n",
    "    \n",
    "    jibber_list = list(jibber)\n",
    "    \n",
    "    #this is necissary to get rid of the begining and end markers left by encode\n",
    "    jibber_list.pop()\n",
    "    del jibber_list[0]\n",
    "    \n",
    "    i = 0\n",
    "    message = []\n",
    "    \n",
    "    #this applies the caeser shift of length ROT to our dictionary values\n",
    "    while i < ROT:\n",
    "        temp = alpha_k[0]\n",
    "        del alpha_k[0]\n",
    "        alpha_k += [temp]\n",
    "        i += 1\n",
    "    \n",
    "    #create key with the shifted alphabet as the keys and the regular as values\n",
    "    key = dict(zip(alpha_k, alpha_reg))\n",
    "    \n",
    "    for letter in jibber_list:\n",
    "        temp = key[letter]\n",
    "        message += temp\n",
    "    \n",
    "    return '|' + ''.join(message) + '|'\n",
    "\n",
    "#decoding our previous encrytion:\n",
    "test = decrypt(cypher13, 13)\n",
    "\n",
    "print test\n", “AW: () needed for print”
    "\n",
    "#it works!"
   ]
  },
  {
   "cell_type": "markdown",
   "metadata": {},
   "source": [
    "# 12)"
   ]
  },
  {
   "cell_type": "code",
   "execution_count": 43,
   "metadata": {
    "collapsed": false
   },
   "outputs": [
    {
     "name": "stdout",
     "output_type": "stream",
     "text": [
      "This is very funny and cool. Indeed!\n"
     ]
    }
   ],
   "source": [
    "#we want to write a simple correction function that will eliminate extra spaces and make sure there is a space after a period\n",
    "\n",
    "def correct(typo):\n",
“AW: Write function header comments (explaining what the function does, what the input parameters are, and what is returned) and in-line comments for each statement explaining logic”
    "    #lists of the letters and punctuations including capitalization\n",
    "    #******Importnant to note that the list punc does NOT include a space as an element\n",
    "    letters = list(string.letters)\n",
    "    punc = list(string.punctuation)\n",
    "    \n",
    "    #make input a list\n",
    "    typo_list = list(typo)\n",
    "    \n",
    "    i = 0\n",
    "    #this loop will go through the input and check each character against the next one\n",
    "    while i < len(typo_list)-1:\n",
    "        #dont need to change anything if the character is a letter\n",
    "        if typo_list[i] in letters:\n",
    "            i += 1\n",
    "        #check that any punctuation is not followed by a letter\n",
    "        elif typo_list[i] in punc:\n",
    "            if typo_list[i+1] in letters:\n",
    "                typo_list[i] += ' '\n",
    "                i += 1\n",
    "            elif typo_list[i+1] == ' ':\n",
    "                i +=1\n",
    "        #check that there are not two adjacent spaces, or a space followed by a punc\n",
    "        elif typo_list[i] == ' ':\n",
    "            if typo_list[i+1] in letters:\n",
    "                i +=1\n",
    "            elif typo_list[i+1] == ' ':\n",
    "                del typo_list[i+1]\n",
    "                i += 1\n",
    "            elif typo_list[i+1] in punc:\n",
    "                del typo_list[i]\n",
    "                #dont add to i because we just got rid of the current character so index i will be the next character\n",
    "    #join list and print\n",
    "    corrected = ''.join(typo_list)\n",
    "    print corrected\n", “AW: () needed for print”
    "    \n",
    "test = 'This  is  very funny and  cool.Indeed!'\n",
    "correct(test)\n",
    "\n",
    "#it works!!"
   ]
  },
  {
   "cell_type": "markdown",
   "metadata": {},
   "source": [
    "# 13)"
   ]
  },
  {
   "cell_type": "code",
   "execution_count": 53,
   "metadata": {
    "collapsed": false
   },
   "outputs": [
    {
     "name": "stdout",
     "output_type": "stream",
     "text": [
      "tries\n",
      "brushes\n",
      "runs\n",
      "fixes\n",
      "already in third person form\n"
     ]
    }
   ],
   "source": [
    "#we want to write a function that gives the appropriate 3rd person form to a verb:\n",
    "\n",
    "def make_3sg_form(verb):\n",
“AW: Write function header comments (explaining what the function does, what the input parameters are, and what is returned) and in-line comments for each statement explaining logic”
    "    #determine if already in 3rd person\n",
    "    if verb.endswith(('ies','es')):\n",
    "        print 'already in third person form'\n",
    "    #case if verb ends in y\n",
    "    elif verb.endswith('y'):\n",
    "        verb = verb.rstrip('y')\n",
    "        verb += 'ies'\n",
    "        print verb\n", “AW: () needed for print”
    "    #case if ends in o, sh, s, ch, x, z\n",
    "    elif verb.endswith(('o','sh','s','ch','x','z')):\n",
    "        verb += 'es'\n",
    "        print verb\n", “AW: () needed for print”
    "    #all other verbs\n",
    "    else:\n",
    "        verb += 's'\n",
    "        print verb\n", “AW: () needed for print”
    "\n",
    "#testing with various verbs      \n",
    "make_3sg_form('try')\n",
    "make_3sg_form('brush')\n",
    "make_3sg_form('run')\n",
    "make_3sg_form('fix')\n",
    "make_3sg_form('types')\n",
    "\n",
    "\n",
    "#our function is working!"
   ]
  },
  {
   "cell_type": "markdown",
   "metadata": {},
   "source": [
    "# 14)\n"
   ]
  },
  {
   "cell_type": "code",
   "execution_count": 59,
   "metadata": {
    "collapsed": false
   },
   "outputs": [
    {
     "name": "stdout",
     "output_type": "stream",
     "text": [
      "lying\n",
      "seeing\n",
      "moving\n",
      "hugging\n"
     ]
    }
   ],
   "source": [
    "#define a function that will transform a function into the present form\n",
    "\n",
    "def making_ing_form(verb):\n",
“AW: Write function header comments (explaining what the function does, what the input parameters are, and what is returned) and in-line comments for each statement explaining logic”
    "    #make a list of consonants and vowels and the word length to make the codes neater\n",
    "    cons = list('bcdfghjklmnpqrstvwxyz')\n",
    "    vowels = list('aeiou')\n",
    "    num = len(verb)\n",
    "    \n",
    "    #have to test ie before e, or else we apply the wrong rule\n",
    "    if verb.endswith('ie'):\n",
    "        verb = verb.rstrip('ie')\n",
    "        verb += 'ying'\n",
    "        print verb\n", “AW: () needed for print”
    "    #test cons-vowel-cons ending\n",
    "    elif verb[num-3] in cons and verb[num-2] in vowels and verb[num-1] in cons:\n",
    "        verb += verb[num-1]\n",
    "        verb += 'ing'\n",
    "        print verb\n", “AW: () needed for print”
    "    #test if verb ends in e\n",
    "    elif verb.endswith('e'):\n",
    "        if verb.endswith('ee'):\n",
    "            verb += 'ing'\n",
    "            print verb\n", “AW: () needed for print”
    "        elif verb == 'be':\n",
    "            verb += 'ing'\n",
    "            print verb\n", “AW: () needed for print”
    "        else:\n",
    "            verb = verb.rstrip('e')\n",
    "            verb += 'ing'\n",
    "            print verb\n", “AW: () needed for print”
    "    #default\n",
    "    else:\n",
    "        verb += 'ing'\n",
    "        print verb\n", “AW: () needed for print”
    "\n",
    "#test various words        \n",
    "making_ing_form('lie')\n",
    "making_ing_form('see')\n",
    "making_ing_form('move')\n",
    "making_ing_form('hug')\n",
    "\n",
    "#our function seems to be working"
   ]
“AW: Every function should have doc header comments using triple quotes so the function is supported by the help() function. Great comments throughout assignment. Keep up the good work! Note that print needs ()”
  },
  {
   "cell_type": "code",
   "execution_count": null,
   "metadata": {
    "collapsed": true
   },
   "outputs": [],
   "source": []
  }
 ],
 "metadata": {
  "kernelspec": {
   "display_name": "Python 2",
   "language": "python",
   "name": "python2"
  },
  "language_info": {
   "codemirror_mode": {
    "name": "ipython",
    "version": 2
   },
   "file_extension": ".py",
   "mimetype": "text/x-python",
   "name": "python",
   "nbconvert_exporter": "python",
   "pygments_lexer": "ipython2",
   "version": "2.7.10"
  }
 },
 "nbformat": 4,
 "nbformat_minor": 0
}
